{
 "cells": [
  {
   "cell_type": "markdown",
   "id": "f7e35fa6",
   "metadata": {},
   "source": [
    "1))\n",
    "For the monte hall problem code, we first set the doors, 1,2 and 3. Then put into for loop that simulates the following order:\n",
    "1. randomly choose secret winning door. \n",
    "2. create the list of all door options.\n",
    "3. remove winning door from the list\n",
    "4. reveal goat door\n",
    "5. compare my choice of door and the winning door, if they match, add one to i_won\n",
    "6. repeat until reaching 100,000times then calculate the chances of winning."
   ]
  },
  {
   "cell_type": "markdown",
   "id": "cb16191e",
   "metadata": {},
   "source": [
    "2))\n",
    "The code below, that chatbot suggested to make it easier, I think cuts off unnecessary pieces of original code. Instead of getting the list to get rid of goat door, it has compressed the multiple lines of codes into just one, functioning exact the same. I can tell that it has a better distinguishable structures, divided into three main parts of randomized winning door, exposing goat door, and deciding switched choice. "
   ]
  },
  {
   "cell_type": "markdown",
   "id": "78c1e010",
   "metadata": {},
   "source": [
    "3))"
   ]
  },
  {
   "cell_type": "code",
   "execution_count": 2,
   "id": "befe48e3",
   "metadata": {},
   "outputs": [
    {
     "name": "stdout",
     "output_type": "stream",
     "text": [
      "0.66719\n"
     ]
    }
   ],
   "source": [
    "import numpy as np\n",
    "\n",
    "all_doors = [1, 2, 3] #assigning three doors\n",
    "my_initial_choice = 1 #initially setting my choice of door1\n",
    "wins = 0 #The number of wins\n",
    "reps = 100000 #How many times to repeat the loop\n",
    "\n",
    "for _ in range(reps): #using for loop over the number of reps\n",
    "    \n",
    "    winning_door = np.random.choice(all_doors) # Randomly assigning the winning door\n",
    "    \n",
    " \n",
    "    remaining_doors = [door for door in all_doors if door != my_initial_choice and door != winning_door]\n",
    "    revealed_goat_door = np.random.choice(remaining_doors)    # reveals a goat door (not my initial choice and not the winning door)\n",
    "    \n",
    "    \n",
    "    switched_choice = [door for door in all_doors if door != my_initial_choice and door != revealed_goat_door][0] # I always switch to the remaining door\n",
    "    \n",
    "    \n",
    "    if switched_choice == winning_door: # Check if switching resulted in a win\n",
    "        wins += 1 #If so, add one to wins\n",
    "\n",
    "\n",
    "win_probability = wins / reps # Calculate and print the probability of winning by switching\n",
    "print(win_probability)\n"
   ]
  },
  {
   "cell_type": "markdown",
   "id": "5482cc73",
   "metadata": {},
   "source": [
    "session sumamry by chatgpt >> https://chatgpt.com/share/66ebc7e7-9970-8005-9ebf-98bfc3e3e349\n",
    "In this session, you asked for an explanation of a Python code simulating the Monty Hall problem. The original code used random choices and door removal logic to demonstrate the effectiveness of always switching doors after one \"goat\" door is revealed. I explained the code, detailing its steps and the probability of winning through switching.\n",
    "\n",
    "You then asked for a simpler, more streamlined version of the simulation. I provided a revised version with clearer variable names, list comprehensions, and a simplified structure to make the logic easier to understand."
   ]
  },
  {
   "cell_type": "markdown",
   "id": "760d30d5",
   "metadata": {},
   "source": [
    "4))\n",
    "https://chatgpt.com/share/66ebd39e-610c-8005-85fb-dc98e6cd7a45"
   ]
  },
  {
   "cell_type": "markdown",
   "id": "d025204c",
   "metadata": {},
   "source": [
    "Summary:\n",
    "The first extension enhances the chatbot by considering pairs of words for more context-aware transitions, leading to smoother, more coherent text generation.\n",
    "The second extension personalizes the chatbot for different characters by giving each one its own transition model, allowing the chatbot to generate character-specific responses."
   ]
  },
  {
   "cell_type": "markdown",
   "id": "c211e528",
   "metadata": {},
   "source": [
    "5)) \n",
    "Markovian Chatbot:\n",
    "Tracks how often each word appears.\n",
    "Tracks how often each word follows another word.\n",
    "Markovian Chatbot Extension:\n",
    "Counts occurrences of characters in a dataset.\n",
    "Tracks how often word pairs appear for each character.\n",
    "Tracks how often each word follows a given word pair for each character.\n",
    "This helps in generating text based on the frequency of word sequences, with an extension to handle character-specific sequences."
   ]
  },
  {
   "cell_type": "markdown",
   "id": "492bc45a",
   "metadata": {},
   "source": [
    "6)) \n",
    "It would not have been this quick to finish the above questions without the help of chatbot. I think that it is because chatbot can search through considerable amounts of data from various resources in just a few seconds and bring out the needed answer clearly. \n",
    "\n",
    "It was not that frustrating to study things using it, as it gave me not only the answer summary but also clear steps of logics behind.\n",
    "\n",
    "I think there are both positive effect and drawbacks of using chatbots as tools. When used properly, on purpose of asking general facts such as what this code does and that code does, it saves so much time from doing whole bunch of research on my own. However, if we use it for subjective topics that can have different perspectives, chatbot could possibly give us bias view when not reviewed critically. "
   ]
  },
  {
   "cell_type": "markdown",
   "id": "ee952fb0",
   "metadata": {},
   "source": [
    "7))\n",
    "When I first heard that we are allowed to use chatbot for classwork, I thought it would make everything too easy by just relying on it. But then after having done works with chatbot as a tool to explain about certain codes, I changed my mind that it is such an useful way of learning coding, statistics. "
   ]
  },
  {
   "cell_type": "markdown",
   "id": "421151df",
   "metadata": {},
   "source": [
    "8)) \n",
    "In this session, we discussed essential skills for different career paths related to data science, statistics, and AI development:\n",
    "Relevance of Skills in Data Science:\n",
    "Learning and Adaptability, Communication, Coding, and Statistics & Data Analysis are crucial for success in the modern world, particularly in data science.\n",
    "Being a Statistician or Data Scientist without Coding or Data Analysis:\n",
    "It’s difficult to be a statistician or data scientist without coding or data analysis, as both are fundamental to these roles. However, alternative roles, like management or data storytelling, might be suitable for those who prefer less technical work.\n",
    "Skills for a Career as an AI Developer:\n",
    "Key skills include programming (Python, C++, Java), machine learning algorithms, deep learning (TensorFlow, PyTorch), data handling, NLP, cloud platforms, and mathematics and statistics. Additionally, problem-solving, communication, and ethics in AI are also vital for long-term success. >> https://chatgpt.com/share/66ece433-d7a0-8005-8432-f5809314b65c\n",
    "\n",
    "To pursue my future career, ai developer, there are some skills required such as programming, relevant mathmatical and statistical skills and critical problem-solving along with communication. In order to build the skills, I can gain technological background from simply taking related courses here to learning outside of class. Meanwhile for the other two, it can be built through lots of experiences and embarking on personal projects where I get to be a part of team to achieve the common goal. \n",
    "\n",
    "While chatbots are great tools for efficiency in learning objective facts or understanding technical issues, users should exercise caution with subjective topics. Critical thinking and additional research are essential when dealing with opinions or complex matters, ensuring a balanced and well-rounded view."
   ]
  },
  {
   "cell_type": "markdown",
   "id": "83e33929",
   "metadata": {},
   "source": [
    "9)) Yes"
   ]
  },
  {
   "cell_type": "code",
   "execution_count": null,
   "id": "9e45f92f",
   "metadata": {},
   "outputs": [],
   "source": []
  }
 ],
 "metadata": {
  "kernelspec": {
   "display_name": "Python 3 (ipykernel)",
   "language": "python",
   "name": "python3"
  },
  "language_info": {
   "codemirror_mode": {
    "name": "ipython",
    "version": 3
   },
   "file_extension": ".py",
   "mimetype": "text/x-python",
   "name": "python",
   "nbconvert_exporter": "python",
   "pygments_lexer": "ipython3",
   "version": "3.11.6"
  }
 },
 "nbformat": 4,
 "nbformat_minor": 5
}
